{
 "cells": [
  {
   "cell_type": "code",
   "execution_count": 630,
   "id": "4b2caeb9",
   "metadata": {},
   "outputs": [],
   "source": [
    "import numpy as np\n",
    "import pandas as pd\n",
    "import os\n",
    "from tqdm.notebook import tqdm\n",
    "import seaborn as sns\n",
    "import scipy.sparse\n",
    "from sklearn.metrics import balanced_accuracy_score, accuracy_score, f1_score\n",
    "from sklearn.model_selection import train_test_split\n",
    "from scipy.sparse import csr_matrix\n",
    "from random import shuffle\n",
    "from catboost import CatBoostClassifier\n",
    "from sklearn.ensemble import RandomForestClassifier\n",
    "from datetime import datetime\n",
    "from sklearn.linear_model import LogisticRegression\n",
    "from sklearn.preprocessing import normalize\n",
    "from sklearn.svm import LinearSVC, SVC\n",
    "from gensim.models import word2vec\n",
    "import matplotlib.pyplot as plt\n",
    "from sklearn.model_selection import learning_curve\n",
    "from sklearn.model_selection import GridSearchCV\n",
    "import torch"
   ]
  },
  {
   "cell_type": "code",
   "execution_count": 631,
   "id": "simple-square",
   "metadata": {},
   "outputs": [],
   "source": [
    "import os\n",
    "os.environ[\"OPENBLAS_NUM_THREADS\"] = \"1\""
   ]
  },
  {
   "cell_type": "code",
   "execution_count": 632,
   "id": "allied-dictionary",
   "metadata": {},
   "outputs": [
    {
     "name": "stdout",
     "output_type": "stream",
     "text": [
      "Using cuda device\n"
     ]
    }
   ],
   "source": [
    "device = torch.device('cuda' if torch.cuda.is_available() else 'cpu')\n",
    "print('Using {} device'.format(device))"
   ]
  },
  {
   "cell_type": "code",
   "execution_count": 633,
   "id": "packed-condition",
   "metadata": {},
   "outputs": [],
   "source": [
    "#import gc\n",
    "#gc.collect() \n",
    "#torch.cuda.empty_cache()"
   ]
  },
  {
   "cell_type": "code",
   "execution_count": 634,
   "id": "serious-florida",
   "metadata": {},
   "outputs": [],
   "source": [
    "session_length = 15\n",
    "session_dilation = 10"
   ]
  },
  {
   "cell_type": "code",
   "execution_count": 635,
   "id": "9df689bd",
   "metadata": {},
   "outputs": [],
   "source": [
    "def GetActualSites(path, session_length, session_dilation,  user_threshold=0.75, sites_threshold = 500):\n",
    "    \"\"\"\n",
    "    Функция которая парсит все файлы и собирает bag_of_sites, строит гистограмму сайтов, а также гистограмму сайтов с порогом по \n",
    "    количеству встреч этого сайта, чтобы не учитывать сайты которые встретились 1 раз.\n",
    "    \n",
    "    \"\"\"\n",
    "    a = os.listdir(path)\n",
    "    full_session_length = session_length + session_dilation\n",
    "    if ('.DS_Store' in a):\n",
    "        a.remove('.DS_Store')\n",
    "    sites = []\n",
    "    for file in a:\n",
    "        user_sites = np.array(pd.read_csv(path + file)['site'])\n",
    "        sites.extend(user_sites[: full_session_length * int(len(user_sites) // full_session_length * user_threshold + 1)])\n",
    "    sites = np.array(sites)    \n",
    "    bag_of_sites = set(sites)\n",
    "    bag_of_sites = {site : [i, 0] for i, site in enumerate(bag_of_sites)}\n",
    "    index = 0\n",
    "    for site in tqdm(bag_of_sites):\n",
    "        cnt = (sites == site).sum()\n",
    "        bag_of_sites[site][1] = cnt\n",
    "    values = []\n",
    "    for site in bag_of_sites:\n",
    "        values.append(bag_of_sites[site][1])\n",
    "    values = np.array(values) \n",
    "    \n",
    "    sns.displot(values, log_scale=2).set(title='sites distribution')\n",
    "    sns.displot(values[values > sites_threshold], log_scale=2).set(title='thresholded sites distribution')\n",
    "    \n",
    "    bag_of_actual_sites = {}\n",
    "    for site in bag_of_sites:\n",
    "        if (bag_of_sites[site][1] >= sites_threshold):\n",
    "            bag_of_actual_sites[site] = bag_of_sites[site][0]\n",
    "    return bag_of_sites, bag_of_actual_sites        \n",
    "  "
   ]
  },
  {
   "cell_type": "code",
   "execution_count": 636,
   "id": "protective-glass",
   "metadata": {},
   "outputs": [],
   "source": [
    "def SplitSessions(history, timestamp, session_length=10, session_dilation=10):\n",
    "    \"\"\"\n",
    "    Функция которая разбивает файлы на сессии фиксированной длины и ширины окна\n",
    "    \n",
    "    \"\"\"\n",
    "    index = 0 # конец последней сессии\n",
    "    max_ind = len(history)\n",
    "    sessions = []\n",
    "    timestamps = []\n",
    "    while(index <= max_ind - session_length):\n",
    "        new_session = []\n",
    "        new_timestamps = []\n",
    "        for ind in range(session_length):\n",
    "            new_session.append(history[index + ind])\n",
    "            new_timestamps.append(timestamp[index + ind])\n",
    "        sessions.append(new_session)\n",
    "        timestamps.append(new_timestamps)\n",
    "        index += session_dilation\n",
    "    return np.array(sessions), np.array(timestamps)"
   ]
  },
  {
   "cell_type": "code",
   "execution_count": 637,
   "id": "e064b70a",
   "metadata": {},
   "outputs": [],
   "source": [
    "def GetUsersSessions(path, bag_of_actual_sites, session_length=10, user_threshold=0.75, session_dilation=10):\n",
    "    \"\"\"\n",
    "    Функция собирает из bag_of_sites и заспличенных сессий датасеты\n",
    "    \n",
    "    \"\"\"\n",
    "    a = os.listdir(path)\n",
    "    if ('.DS_Store' in a):\n",
    "        a.remove('.DS_Store')\n",
    "    \n",
    "    print('Files done:')\n",
    "    all_sessions_train, all_sessions_test, all_timestamps_train = [], [], []\n",
    "    all_timestamps_test, train_targets, test_targets = [], [], []\n",
    "    for ind, file in enumerate(tqdm(a)):\n",
    "        user_history = np.array(pd.read_csv(path + file)['site'])\n",
    "        user_timestamp = np.array(pd.read_csv(path + file)['timestamp'])\n",
    "        flag = False\n",
    "        sessions, session_timestamps = SplitSessions(user_history, user_timestamp, session_length, session_dilation)\n",
    "        max_ind = int(len(sessions) * user_threshold)\n",
    "        for index, session in enumerate(sessions):\n",
    "            new_session = []\n",
    "            if (index == len(sessions) - 1 and flag):\n",
    "                break\n",
    "            for site in session:\n",
    "                if (site in bag_of_actual_sites):\n",
    "                    new_session.append(bag_of_actual_sites[site])  \n",
    "                else:\n",
    "                    new_session.append(-1)\n",
    "            if (index <= max_ind):\n",
    "                train_targets.append(ind)\n",
    "                all_sessions_train.append(new_session)\n",
    "                all_timestamps_train.append(session_timestamps[index])\n",
    "            else:\n",
    "                test_targets.append(ind)\n",
    "                all_sessions_test.append(new_session)\n",
    "                all_timestamps_test.append(session_timestamps[index])\n",
    "    return all_sessions_train, all_sessions_test, all_timestamps_train, all_timestamps_test, np.array(train_targets), np.array(test_targets)      "
   ]
  },
  {
   "cell_type": "code",
   "execution_count": 638,
   "id": "statewide-jacksonville",
   "metadata": {},
   "outputs": [],
   "source": [
    "def MakeTimeFeatures(timestamps):\n",
    "    \"\"\"\n",
    "    Функция добавляет в качестве признаков временные метки у timestamp'ов сайтов\n",
    "    \n",
    "    \"\"\"\n",
    "    global session_length\n",
    "    string_type = \"%Y-%m-%d %H:%M:%S\"\n",
    "    columns = ['month', 'day', 'hour', 'minute', 'second', 'dayofweek']\n",
    "    new_timestamps = []\n",
    "    \n",
    "    features_dict = {'month': [],\n",
    "            'day': [],\n",
    "            'hour': [],\n",
    "            'minute': [],\n",
    "            'second': [],\n",
    "            'dayofweek': [],\n",
    "            'partofday': [],\n",
    "            'average_time': [],\n",
    "           }\n",
    "    \n",
    "    for timestamp in tqdm(timestamps):\n",
    "        new_timestamp = []\n",
    "        previous_time = None\n",
    "        average_time = 0\n",
    "        for time in timestamp:\n",
    "            time_vector = []\n",
    "            day_parts = [0] * 4\n",
    "            part_of_day = 0\n",
    "            new_time = datetime.strptime(time, string_type)\n",
    "            new_time = pd.to_datetime([new_time])[0]\n",
    "            for col in columns:\n",
    "                if col == 'hour':\n",
    "                    hour = getattr(new_time, 'hour')\n",
    "                    if hour < 10 and hour >= 6:\n",
    "                        part_of_day = 1\n",
    "                    elif hour < 18 and hour >= 10:\n",
    "                        part_of_day = 2\n",
    "                    elif hour < 23 and hour >= 18:\n",
    "                        part_of_day = 3\n",
    "                features_dict[col].append(getattr(new_time, col))        \n",
    "                time_vector.append(getattr(new_time, col))\n",
    "            if previous_time != None:\n",
    "                new_timestamp.append((new_time - previous_time).seconds)\n",
    "                average_time += (new_time - previous_time).total_seconds()\n",
    "                features_dict['average_time'].append(average_time)\n",
    "            previous_time = new_time\n",
    "            features_dict['partofday'].append(part_of_day)\n",
    "            day_parts[part_of_day] = 1\n",
    "            time_vector.extend(day_parts)\n",
    "            new_timestamp.extend(time_vector)\n",
    "        new_timestamp.append(average_time / session_length)    \n",
    "        new_timestamps.append(new_timestamp)\n",
    "    return new_timestamps, features_dict    "
   ]
  },
  {
   "cell_type": "code",
   "execution_count": 639,
   "id": "91923e8c",
   "metadata": {},
   "outputs": [],
   "source": [
    "def MakeOneHotDataFrameFromSessions(sessions, timestamps, bag_of_actual_sites):\n",
    "    \"\"\"\n",
    "    Функция собирает one-hot вектора по сессии\n",
    "    \n",
    "    \"\"\"\n",
    "    data = []\n",
    "    new_timestamps, features_dict = MakeTimeFeatures(timestamps)\n",
    "    for session_index, session in enumerate(tqdm(sessions)):\n",
    "        one_hot = [0] * (len(bag_of_actual_sites) + 1)\n",
    "        for index, site_ind in enumerate(session):\n",
    "            if site_ind == -1:\n",
    "                one_hot[-1] += 1\n",
    "            else:\n",
    "                one_hot[site_ind] += 1\n",
    "        one_hot.extend(new_timestamps[session_index])        \n",
    "        data.append(one_hot)\n",
    "    return csr_matrix(data), features_dict"
   ]
  },
  {
   "cell_type": "code",
   "execution_count": 640,
   "id": "modern-validation",
   "metadata": {},
   "outputs": [],
   "source": [
    "class mean_vectorizer():\n",
    "    def __init__(self, word2vec):\n",
    "        self.word2vec = word2vec\n",
    "        self.dim = len(next(iter(word2vec.values())))\n",
    "\n",
    "    def fit(self, X):\n",
    "        return self \n",
    "\n",
    "    def transform(self, X):\n",
    "        return np.array([\n",
    "            np.mean([self.word2vec[w] for w in words if w in self.word2vec] \n",
    "                    or [np.zeros(self.dim)], axis=0)\n",
    "            for words in X\n",
    "        ])"
   ]
  },
  {
   "cell_type": "code",
   "execution_count": 641,
   "id": "younger-astrology",
   "metadata": {},
   "outputs": [],
   "source": [
    "def MakeDataFrameFromSessions(sessions, timestamps, bag_of_actual_sites):\n",
    "    \"\"\"\n",
    "    Подход с эмбеддингами word2vec\n",
    "    \n",
    "    \"\"\"\n",
    "    data = []\n",
    "    #columns = [f'site{i}' for i in range(len(sessions[0]))]\n",
    "    #columns.append('user_id')\n",
    "    new_timestamps = MakeTimeFeatures(timestamps)\n",
    "    for ind, session in enumerate(tqdm(sessions)):\n",
    "        one_hot = [0] * (len(sessions[0]))\n",
    "        for index, site_ind in enumerate(session):\n",
    "            one_hot[index] = site_ind\n",
    "        #one_hot[-1] = targets[ind]\n",
    "        #one_hot.extend(new_timestamps[ind])\n",
    "        data.append(one_hot)\n",
    "    model = word2vec.Word2Vec(data, vector_size=300, window=3, workers=4)\n",
    "    w2v = dict(zip(model.wv.index_to_key, model.wv.vectors))\n",
    "    data_mean=np.array(mean_vectorizer(w2v).fit(data).transform(data))\n",
    "    times = np.array(new_timestamps)\n",
    "    times = (times - np.mean(times, axis = 0)) / np.std(times, axis=0)\n",
    "    return csr_matrix(np.concatenate((data_mean, times), axis=1))"
   ]
  },
  {
   "cell_type": "code",
   "execution_count": 642,
   "id": "83acaee9",
   "metadata": {},
   "outputs": [],
   "source": [
    "def CountMetrics(y_true, y_pred):\n",
    "    print(f'Accuracy score : {accuracy_score(y_true, y_pred)}')\n",
    "    print(f'Balanced accuracy score : {balanced_accuracy_score(y_true, y_pred)}')\n",
    "    x = f1_score(y_true, y_pred, average='macro')\n",
    "    print(f'F1 : {x}')"
   ]
  },
  {
   "cell_type": "code",
   "execution_count": 644,
   "id": "fixed-pledge",
   "metadata": {},
   "outputs": [],
   "source": [
    "path = './capstone_user_identification/150users/'"
   ]
  },
  {
   "cell_type": "code",
   "execution_count": 645,
   "id": "included-study",
   "metadata": {},
   "outputs": [],
   "source": [
    "def MakeData(path, session_length, session_dilation, sites_threshold=-1):\n",
    "    \"\"\"\n",
    "    Функция возвращает train/test датасеты\n",
    "    \"\"\"\n",
    "    all_bag_of_sites, bag_of_actual_sites = GetActualSites(path, sites_threshold = sites_threshold,\n",
    "                                                      session_length=session_length, session_dilation=session_dilation)\n",
    "\n",
    "    for index, site in enumerate(bag_of_actual_sites):\n",
    "        bag_of_actual_sites[site] = index  \n",
    "    \n",
    "    train_sessions, test_sessions, train_timestamps, test_timestamps, train_targets, test_targets = GetUsersSessions(path,\n",
    "                                                                              bag_of_actual_sites,\n",
    "                                                                              session_length=session_length,\n",
    "                                                                              session_dilation=session_dilation)\n",
    "    \n",
    "    train_data, train_features_times = MakeOneHotDataFrameFromSessions(train_sessions, train_timestamps, bag_of_actual_sites)\n",
    "    test_data, test_features_times = MakeOneHotDataFrameFromSessions(test_sessions, test_timestamps, bag_of_actual_sites)\n",
    "    assert train_data.shape[0] == train_targets.shape[0]\n",
    "    assert test_data.shape[0] == test_targets.shape[0]\n",
    "    \n",
    "    #shuffled_train, train_targets = ShuffleSparseData(train_data, train_targets)\n",
    "    #shuffled_train.toarray(), train_targets\n",
    "    #assert(shuffled_train.shape[0] == train_targets.shape[0])\n",
    "    \n",
    "    return train_data, train_targets, test_data, test_targets, train_features_times"
   ]
  },
  {
   "cell_type": "code",
   "execution_count": 646,
   "id": "39b996a9",
   "metadata": {},
   "outputs": [
    {
     "data": {
      "application/vnd.jupyter.widget-view+json": {
       "model_id": "758368c4973f4d469f42519f179e24bd",
       "version_major": 2,
       "version_minor": 0
      },
      "text/plain": [
       "  0%|          | 0/23109 [00:00<?, ?it/s]"
      ]
     },
     "metadata": {},
     "output_type": "display_data"
    },
    {
     "name": "stdout",
     "output_type": "stream",
     "text": [
      "Files done:\n"
     ]
    },
    {
     "data": {
      "application/vnd.jupyter.widget-view+json": {
       "model_id": "808d6c3dabbf4084b79d83d9ff447351",
       "version_major": 2,
       "version_minor": 0
      },
      "text/plain": [
       "  0%|          | 0/150 [00:00<?, ?it/s]"
      ]
     },
     "metadata": {},
     "output_type": "display_data"
    },
    {
     "data": {
      "application/vnd.jupyter.widget-view+json": {
       "model_id": "e12680b824e0441499d7b37f87bcf03a",
       "version_major": 2,
       "version_minor": 0
      },
      "text/plain": [
       "  0%|          | 0/102702 [00:00<?, ?it/s]"
      ]
     },
     "metadata": {},
     "output_type": "display_data"
    },
    {
     "data": {
      "application/vnd.jupyter.widget-view+json": {
       "model_id": "dcce15d9d6214ccd9bd32316e3d2cfc9",
       "version_major": 2,
       "version_minor": 0
      },
      "text/plain": [
       "  0%|          | 0/102702 [00:00<?, ?it/s]"
      ]
     },
     "metadata": {},
     "output_type": "display_data"
    },
    {
     "data": {
      "application/vnd.jupyter.widget-view+json": {
       "model_id": "b716eff6ff274a47b19e7669f7fbe663",
       "version_major": 2,
       "version_minor": 0
      },
      "text/plain": [
       "  0%|          | 0/34110 [00:00<?, ?it/s]"
      ]
     },
     "metadata": {},
     "output_type": "display_data"
    },
    {
     "data": {
      "application/vnd.jupyter.widget-view+json": {
       "model_id": "aab105df956d4042bc09ca97ac1abeb8",
       "version_major": 2,
       "version_minor": 0
      },
      "text/plain": [
       "  0%|          | 0/34110 [00:00<?, ?it/s]"
      ]
     },
     "metadata": {},
     "output_type": "display_data"
    },
    {
     "data": {
      "image/png": "[encoded data removed]",
      "text/plain": [
       "<Figure size 360x360 with 1 Axes>"
      ]
     },
     "metadata": {
      "needs_background": "light"
     },
     "output_type": "display_data"
    },
    {
     "data": {
      "image/png": "[encoded data removed]",
      "text/plain": [
       "<Figure size 360x360 with 1 Axes>"
      ]
     },
     "metadata": {
      "needs_background": "light"
     },
     "output_type": "display_data"
    }
   ],
   "source": [
    "train_data, train_targets, test_data, test_targets, train_features_times = MakeData(path, session_length, session_dilation, sites_threshold=10)"
   ]
  },
  {
   "cell_type": "markdown",
   "id": "differential-distribution",
   "metadata": {},
   "source": [
    "Визуализируем полученные признаки"
   ]
  },
  {
   "cell_type": "code",
   "execution_count": 647,
   "id": "prescribed-version",
   "metadata": {},
   "outputs": [
    {
     "data": {
      "text/plain": [
       "<seaborn.axisgrid.FacetGrid at 0x7ff52876c310>"
      ]
     },
     "execution_count": 647,
     "metadata": {},
     "output_type": "execute_result"
    },
    {
     "data": {
      "image/png": "[encoded data removed]",
      "text/plain": [
       "<Figure size 360x360 with 1 Axes>"
      ]
     },
     "metadata": {
      "needs_background": "light"
     },
     "output_type": "display_data"
    }
   ],
   "source": [
    "sns.displot(train_features_times['month']).set(title='Распределение посещений сайтов по месяцам')"
   ]
  },
  {
   "cell_type": "markdown",
   "id": "gorgeous-sacramento",
   "metadata": {},
   "source": [
    "Из графика видно, что нам предоставлены данные с ноября по май, в феврале особенная активность"
   ]
  },
  {
   "cell_type": "code",
   "execution_count": 648,
   "id": "hindu-delta",
   "metadata": {},
   "outputs": [
    {
     "data": {
      "text/plain": [
       "<seaborn.axisgrid.FacetGrid at 0x7ff57b91cee0>"
      ]
     },
     "execution_count": 648,
     "metadata": {},
     "output_type": "execute_result"
    },
    {
     "data": {
      "image/png": "[encoded data removed]",
      "text/plain": [
       "<Figure size 360x360 with 1 Axes>"
      ]
     },
     "metadata": {
      "needs_background": "light"
     },
     "output_type": "display_data"
    }
   ],
   "source": [
    "sns.displot(train_features_times['hour']).set(title='Распределение посещений сайтов по часам')"
   ]
  },
  {
   "cell_type": "markdown",
   "id": "different-gazette",
   "metadata": {},
   "source": [
    "Ожидаемо в первой половине дня активность намного выше, ближе к ночи активность падает"
   ]
  },
  {
   "cell_type": "code",
   "execution_count": 649,
   "id": "italic-rubber",
   "metadata": {},
   "outputs": [
    {
     "data": {
      "text/plain": [
       "<seaborn.axisgrid.FacetGrid at 0x7ff57bc3de80>"
      ]
     },
     "execution_count": 649,
     "metadata": {},
     "output_type": "execute_result"
    },
    {
     "data": {
      "image/png": "[encoded data removed]",
      "text/plain": [
       "<Figure size 360x360 with 1 Axes>"
      ]
     },
     "metadata": {
      "needs_background": "light"
     },
     "output_type": "display_data"
    }
   ],
   "source": [
    "sns.displot(train_features_times['minute']).set(title='Распределение посещений сайтов по минутам')"
   ]
  },
  {
   "cell_type": "markdown",
   "id": "liberal-billion",
   "metadata": {},
   "source": [
    "Распределение по минутам близко к равномерному"
   ]
  },
  {
   "cell_type": "code",
   "execution_count": 650,
   "id": "controlling-creativity",
   "metadata": {},
   "outputs": [
    {
     "data": {
      "text/plain": [
       "<seaborn.axisgrid.FacetGrid at 0x7ff57b913580>"
      ]
     },
     "execution_count": 650,
     "metadata": {},
     "output_type": "execute_result"
    },
    {
     "data": {
      "image/png": "[encoded data removed]",
      "text/plain": [
       "<Figure size 360x360 with 1 Axes>"
      ]
     },
     "metadata": {
      "needs_background": "light"
     },
     "output_type": "display_data"
    }
   ],
   "source": [
    "sns.displot(train_features_times['second']).set(title='Распределение посещений сайтов по секундам')"
   ]
  },
  {
   "cell_type": "markdown",
   "id": "advance-juice",
   "metadata": {},
   "source": [
    "Распределение по секундам получилось почти равномерным, как и ожидалось"
   ]
  },
  {
   "cell_type": "code",
   "execution_count": 651,
   "id": "saved-fraction",
   "metadata": {},
   "outputs": [
    {
     "data": {
      "text/plain": [
       "<seaborn.axisgrid.FacetGrid at 0x7ff58816b910>"
      ]
     },
     "execution_count": 651,
     "metadata": {},
     "output_type": "execute_result"
    },
    {
     "data": {
      "image/png": "[encoded data removed]",
      "text/plain": [
       "<Figure size 360x360 with 1 Axes>"
      ]
     },
     "metadata": {
      "needs_background": "light"
     },
     "output_type": "display_data"
    }
   ],
   "source": [
    "sns.displot(train_features_times['dayofweek']).set(title='Распределение посещений сайтов по дню в неделе')"
   ]
  },
  {
   "cell_type": "markdown",
   "id": "lovely-guess",
   "metadata": {},
   "source": [
    "Из графика видно, что в середине недели активность пользователей выше"
   ]
  },
  {
   "cell_type": "markdown",
   "id": "developed-variation",
   "metadata": {},
   "source": [
    "Построение моделей:"
   ]
  },
  {
   "cell_type": "code",
   "execution_count": 652,
   "id": "dated-socket",
   "metadata": {},
   "outputs": [],
   "source": [
    "trd = normalize(train_data, axis=0)\n",
    "testrd = normalize(test_data, axis = 0)\n",
    "# (52691, 17554)"
   ]
  },
  {
   "cell_type": "code",
   "execution_count": 653,
   "id": "excited-ground",
   "metadata": {},
   "outputs": [
    {
     "data": {
      "text/plain": [
       "<102702x5640 sparse matrix of type '<class 'numpy.float64'>'\n",
       "\twith 12282283 stored elements in Compressed Sparse Row format>"
      ]
     },
     "execution_count": 653,
     "metadata": {},
     "output_type": "execute_result"
    }
   ],
   "source": [
    "new_train = csr_matrix(scipy.sparse.hstack((trd, train_targets[:, None])))\n",
    "new_train"
   ]
  },
  {
   "cell_type": "code",
   "execution_count": 654,
   "id": "stuffed-patrol",
   "metadata": {},
   "outputs": [],
   "source": [
    "index = np.arange(np.shape(new_train)[0])\n",
    "np.random.shuffle(index)\n",
    "train = new_train[index]\n",
    "\n",
    "targets = np.squeeze(train[:, -1].toarray())"
   ]
  },
  {
   "cell_type": "markdown",
   "id": "enclosed-bhutan",
   "metadata": {},
   "source": [
    "Логистическая регрессия"
   ]
  },
  {
   "cell_type": "code",
   "execution_count": 655,
   "id": "furnished-marshall",
   "metadata": {
    "scrolled": false
   },
   "outputs": [
    {
     "name": "stdout",
     "output_type": "stream",
     "text": [
      "Accuracy score : 0.2128701260627382\n",
      "Balanced accuracy score : 0.11871828835267292\n",
      "F1 : 0.13156275071962328\n"
     ]
    }
   ],
   "source": [
    "lr = LogisticRegression(max_iter = 5000)\n",
    "lr.fit(train[:,:-1], targets)\n",
    "\n",
    "preds = lr.predict(testrd)\n",
    "CountMetrics(test_targets, preds)"
   ]
  },
  {
   "cell_type": "markdown",
   "id": "gothic-lighter",
   "metadata": {},
   "source": [
    "SVM"
   ]
  },
  {
   "cell_type": "code",
   "execution_count": 656,
   "id": "rapid-aquatic",
   "metadata": {},
   "outputs": [
    {
     "name": "stdout",
     "output_type": "stream",
     "text": [
      "Accuracy score : 0.30351802990325416\n",
      "Balanced accuracy score : 0.22873374192710377\n",
      "F1 : 0.22847991560922873\n"
     ]
    }
   ],
   "source": [
    "lrc = LinearSVC(C = 1, max_iter = 5000)\n",
    "lrc.fit(train[:,:-1], targets)\n",
    "\n",
    "preds = lrc.predict(testrd)\n",
    "CountMetrics(test_targets, preds)"
   ]
  },
  {
   "cell_type": "markdown",
   "id": "great-charter",
   "metadata": {},
   "source": [
    "CatBoost"
   ]
  },
  {
   "cell_type": "code",
   "execution_count": 657,
   "id": "shaped-terry",
   "metadata": {},
   "outputs": [
    {
     "name": "stdout",
     "output_type": "stream",
     "text": [
      "0:\tlearn: 4.9674230\ttest: 4.9506117\tbest: 4.9506117 (0)\ttotal: 1.01s\tremaining: 16m 50s\n",
      "100:\tlearn: 4.2265304\ttest: 4.4581111\tbest: 4.4581111 (100)\ttotal: 1m 39s\tremaining: 14m 42s\n",
      "200:\tlearn: 3.9296975\ttest: 4.3258069\tbest: 4.3258069 (200)\ttotal: 3m 16s\tremaining: 13m 2s\n",
      "300:\tlearn: 3.7675089\ttest: 4.2617613\tbest: 4.2617613 (300)\ttotal: 4m 57s\tremaining: 11m 30s\n",
      "400:\tlearn: 3.6286059\ttest: 4.2122296\tbest: 4.2122296 (400)\ttotal: 7m 23s\tremaining: 11m 2s\n",
      "500:\tlearn: 3.5219456\ttest: 4.1768358\tbest: 4.1768358 (500)\ttotal: 9m 31s\tremaining: 9m 29s\n",
      "600:\tlearn: 3.4547437\ttest: 4.1486578\tbest: 4.1486578 (600)\ttotal: 11m 9s\tremaining: 7m 24s\n",
      "700:\tlearn: 3.3649706\ttest: 4.1219638\tbest: 4.1219638 (700)\ttotal: 12m 46s\tremaining: 5m 26s\n",
      "800:\tlearn: 3.2991496\ttest: 4.0946481\tbest: 4.0946481 (800)\ttotal: 14m 21s\tremaining: 3m 33s\n",
      "900:\tlearn: 3.2366841\ttest: 4.0730093\tbest: 4.0730093 (900)\ttotal: 15m 56s\tremaining: 1m 45s\n",
      "999:\tlearn: 3.1810049\ttest: 4.0495259\tbest: 4.0495259 (999)\ttotal: 17m 30s\tremaining: 0us\n",
      "\n",
      "bestTest = 4.049525914\n",
      "bestIteration = 999\n",
      "\n",
      "Accuracy score : 0.19882732336558195\n",
      "Balanced accuracy score : 0.11515969694174306\n",
      "F1 : 0.11278490134738471\n"
     ]
    }
   ],
   "source": [
    "cb = CatBoostClassifier(depth = 2, l2_leaf_reg = 7, thread_count = 14, iterations = 1000, verbose = 100)\n",
    "cb.fit(train_data, train_targets, eval_set=(test_data, test_targets))\n",
    "\n",
    "preds = cb.predict(test_data)\n",
    "new_preds = [pred[0] for pred in preds]\n",
    "CountMetrics(test_targets, new_preds)"
   ]
  },
  {
   "cell_type": "markdown",
   "id": "f62f689c",
   "metadata": {},
   "source": [
    "Бустинг показал себя хуже всего, в целом, это было ожидаемо. Все наши данные имеют вид разреженных эмбеддингов, на таких данных обычно лучше всего себя показывают линейные модели, потому что значения конкретного признака в эмбеддингах не так важны, а деревья пытаються сплитить данные по значениям конкретных фичей"
   ]
  },
  {
   "cell_type": "markdown",
   "id": "pursuant-restoration",
   "metadata": {},
   "source": [
    "Лучший результат показала SVM, попробуем подобрать для нее гипер-параметры"
   ]
  },
  {
   "cell_type": "code",
   "execution_count": 663,
   "id": "backed-minnesota",
   "metadata": {},
   "outputs": [],
   "source": [
    "params = {'C':[0.1, 1, 10]}\n",
    "svc = LinearSVC(max_iter = 5000)"
   ]
  },
  {
   "cell_type": "code",
   "execution_count": 664,
   "id": "stainless-nation",
   "metadata": {},
   "outputs": [
    {
     "name": "stdout",
     "output_type": "stream",
     "text": [
      "CPU times: user 1h 29min 35s, sys: 2 s, total: 1h 29min 37s\n",
      "Wall time: 1h 29min 38s\n"
     ]
    },
    {
     "data": {
      "text/plain": [
       "GridSearchCV(estimator=LinearSVC(max_iter=5000), param_grid={'C': [0.1, 1, 10]})"
      ]
     },
     "execution_count": 664,
     "metadata": {},
     "output_type": "execute_result"
    }
   ],
   "source": [
    "%%time\n",
    "grid_svm = GridSearchCV(svc, params)\n",
    "grid_svm.fit(trd, train_targets)"
   ]
  },
  {
   "cell_type": "code",
   "execution_count": 665,
   "id": "outside-coordinator",
   "metadata": {},
   "outputs": [
    {
     "data": {
      "text/plain": [
       "{'mean_fit_time': array([106.75437508, 160.58390107, 666.87646775]),\n",
       " 'std_fit_time': array([ 17.63172052,   7.46984521, 126.93399294]),\n",
       " 'mean_score_time': array([0.20060487, 0.22324452, 0.31456323]),\n",
       " 'std_score_time': array([0.00443875, 0.01863282, 0.13337151]),\n",
       " 'param_C': masked_array(data=[0.1, 1, 10],\n",
       "              mask=[False, False, False],\n",
       "        fill_value='?',\n",
       "             dtype=object),\n",
       " 'params': [{'C': 0.1}, {'C': 1}, {'C': 10}],\n",
       " 'split0_test_score': array([0.23431186, 0.2598705 , 0.2711163 ]),\n",
       " 'split1_test_score': array([0.28761988, 0.3169758 , 0.33975951]),\n",
       " 'split2_test_score': array([0.32911392, 0.36295034, 0.38179163]),\n",
       " 'split3_test_score': array([0.3087147 , 0.34503408, 0.36460565]),\n",
       " 'split4_test_score': array([0.28008763, 0.31801363, 0.32906524]),\n",
       " 'mean_test_score': array([0.2879696 , 0.32056887, 0.33726766]),\n",
       " 'std_test_score': array([0.03182645, 0.03492411, 0.03789259]),\n",
       " 'rank_test_score': array([3, 2, 1], dtype=int32)}"
      ]
     },
     "execution_count": 665,
     "metadata": {},
     "output_type": "execute_result"
    }
   ],
   "source": [
    "grid_svm.cv_results_"
   ]
  },
  {
   "cell_type": "code",
   "execution_count": 666,
   "id": "ready-softball",
   "metadata": {},
   "outputs": [
    {
     "data": {
      "image/png": "[encoded data removed]",
      "text/plain": [
       "<Figure size 432x288 with 1 Axes>"
      ]
     },
     "metadata": {
      "needs_background": "light"
     },
     "output_type": "display_data"
    }
   ],
   "source": [
    "_, ax = plt.subplots(1,1)\n",
    "\n",
    "ax.plot([0.1, 1, 10], grid_svm.cv_results_['mean_test_score'], '-o', label= 'C')\n",
    "ax.set_title(\"Grid Search Scores\", fontsize=20)\n",
    "ax.set_xlabel('C parametr', fontsize=16)\n",
    "ax.set_ylabel('CV Average Score', fontsize=16)\n",
    "ax.legend(loc=\"best\", fontsize=15)\n",
    "ax.grid('on')"
   ]
  },
  {
   "cell_type": "code",
   "execution_count": 669,
   "id": "invalid-mention",
   "metadata": {},
   "outputs": [
    {
     "name": "stdout",
     "output_type": "stream",
     "text": [
      "Accuracy score : 0.2973028437408385\n",
      "Balanced accuracy score : 0.22901795573570324\n",
      "F1 : 0.23328298197514846\n"
     ]
    }
   ],
   "source": [
    "lrc = LinearSVC(C = 10, max_iter = 5000)\n",
    "lrc.fit(train[:,:-1], targets)\n",
    "\n",
    "preds = lrc.predict(testrd)\n",
    "CountMetrics(test_targets, preds)"
   ]
  },
  {
   "cell_type": "code",
   "execution_count": 674,
   "id": "local-mailing",
   "metadata": {},
   "outputs": [
    {
     "data": {
      "text/plain": [
       "297"
      ]
     },
     "execution_count": 674,
     "metadata": {},
     "output_type": "execute_result"
    }
   ],
   "source": [
    "len(train_targets[train_targets == 0])"
   ]
  },
  {
   "cell_type": "code",
   "execution_count": 686,
   "id": "liberal-solution",
   "metadata": {},
   "outputs": [
    {
     "name": "stdout",
     "output_type": "stream",
     "text": [
      "Accuracy score : 0.6488091760627835\n",
      "Balanced accuracy score : 0.6037054027133667\n",
      "F1 : 0.6291269671945684\n"
     ]
    }
   ],
   "source": [
    "preds = lrc.predict(train[:,:-1])\n",
    "CountMetrics(targets, preds)"
   ]
  },
  {
   "cell_type": "code",
   "execution_count": 689,
   "id": "moving-mongolia",
   "metadata": {},
   "outputs": [
    {
     "data": {
      "text/plain": [
       "(<34110x5639 sparse matrix of type '<class 'numpy.float64'>'\n",
       " \twith 4056003 stored elements in Compressed Sparse Column format>,\n",
       " array([  0,   0,   0, ..., 149, 149, 149]))"
      ]
     },
     "execution_count": 689,
     "metadata": {},
     "output_type": "execute_result"
    }
   ],
   "source": [
    "testrd, test_targets"
   ]
  },
  {
   "cell_type": "code",
   "execution_count": 691,
   "id": "raising-bahamas",
   "metadata": {},
   "outputs": [
    {
     "data": {
      "text/plain": [
       "98"
      ]
     },
     "execution_count": 691,
     "metadata": {},
     "output_type": "execute_result"
    }
   ],
   "source": [
    "len(test_targets[test_targets == 0])"
   ]
  },
  {
   "cell_type": "markdown",
   "id": "bridal-europe",
   "metadata": {},
   "source": [
    "Попробуем идентифицировать конкретного пользователя"
   ]
  },
  {
   "cell_type": "code",
   "execution_count": 692,
   "id": "pregnant-preliminary",
   "metadata": {},
   "outputs": [
    {
     "name": "stdout",
     "output_type": "stream",
     "text": [
      "Accuracy score : 0.2755102040816326\n",
      "Balanced accuracy score : 0.2755102040816326\n",
      "F1 : 0.022736842105263156\n"
     ]
    },
    {
     "name": "stderr",
     "output_type": "stream",
     "text": [
      "/usr/local/lib/python3.8/dist-packages/sklearn/metrics/_classification.py:1850: UserWarning: y_pred contains classes not in y_true\n",
      "  warnings.warn('y_pred contains classes not in y_true')\n"
     ]
    }
   ],
   "source": [
    "preds = lrc.predict(testrd[:98])\n",
    "CountMetrics(test_targets[:98], preds)"
   ]
  },
  {
   "cell_type": "code",
   "execution_count": null,
   "id": "breathing-training",
   "metadata": {},
   "outputs": [],
   "source": []
  }
 ],
 "metadata": {
  "kernelspec": {
   "display_name": "Python 3 (ipykernel)",
   "language": "python",
   "name": "python3"
  },
  "language_info": {
   "codemirror_mode": {
    "name": "ipython",
    "version": 3
   },
   "file_extension": ".py",
   "mimetype": "text/x-python",
   "name": "python",
   "nbconvert_exporter": "python",
   "pygments_lexer": "ipython3",
   "version": "3.10.6"
  }
 },
 "nbformat": 4,
 "nbformat_minor": 5
}
